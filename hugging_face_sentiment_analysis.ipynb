{
 "cells": [
  {
   "cell_type": "markdown",
   "id": "3cd79f98-a340-4fc2-830d-8e9c5a1cb148",
   "metadata": {},
   "source": [
    "Here is an example of how to use a Hugging Face model on your own computer. The model is for sentiment analysis. If you don't\n",
    "know what sentiment analysis is, I bet you could guess after running all the code below and examining the output!"
   ]
  },
  {
   "cell_type": "code",
   "execution_count": 4,
   "id": "eda33c46-6cdc-42b5-b73c-a696df9ec0b7",
   "metadata": {},
   "outputs": [],
   "source": [
    "# If you have not used the packages below, you will need to install them first. If you have used them, skip running this cell.\n",
    "# If you don't know, you can run the next code chunk as a way of checking whether you have them installed. You will get an \n",
    "# error saying the package is not found if it has not been installed. Remove the # from the beginning of any line with a\n",
    "# package you need to install.\n",
    "# %pip install transformers\n",
    "# I had to specify the version with --upgrade to avoid a whole bunch of javascript errors! But I got output even with the errors.\n",
    "# %pip install ipywidgets==7.7.5 --upgrade \n",
    "# %pip install tokenizers\n",
    "# %pip install torch"
   ]
  },
  {
   "cell_type": "code",
   "execution_count": 7,
   "id": "3758e070-74c8-40c7-ba26-aaa28c1fd9f6",
   "metadata": {},
   "outputs": [
    {
     "name": "stdout",
     "output_type": "stream",
     "text": [
      "[{'label': 'NEGATIVE', 'score': 0.9996176958084106}]\n"
     ]
    }
   ],
   "source": [
    "# Sources for below code:\n",
    "# https://www.freecodecamp.org/news/get-started-with-hugging-face/\n",
    "# https://huggingface.co/distilbert/distilbert-base-uncased-finetuned-sst-2-english#model-details\n",
    "\n",
    "from transformers import pipeline\n",
    "\n",
    "# Load the pre-trained sentiment analysis model\n",
    "sentiment_analysis = pipeline(\"sentiment-analysis\", model=\"distilbert-base-uncased-finetuned-sst-2-english\")\n",
    "\n",
    "# Here's some text that we will run the sentiment analysis on. Keep it as is or change it!\n",
    "input_text = [\n",
    "\"It’s a great app, my biggest problem is the card readers regularly do not connect. Which is very poor customer service for us because we have to manually enter our customers debit cards, which takes time. This slows down our efficiency.\"\n",
    "]\n",
    "\n",
    "# Perform sentiment analysis on the input text\n",
    "result = sentiment_analysis(input_text)\n",
    "\n",
    "# Print the result\n",
    "print(result)"
   ]
  },
  {
   "cell_type": "code",
   "execution_count": 9,
   "id": "90a00ef6-09a0-4dd1-bfe3-1d451d2553d1",
   "metadata": {},
   "outputs": [
    {
     "data": {
      "text/plain": [
       "[{'label': 'POSITIVE', 'score': 0.9998656511306763},\n",
       " {'label': 'NEGATIVE', 'score': 0.9991129040718079}]"
      ]
     },
     "execution_count": 9,
     "metadata": {},
     "output_type": "execute_result"
    }
   ],
   "source": [
    "# Let's try again, this time with two input text strings.\n",
    "# Note the nature of the two text strings. What values would you expect the sentiment analysis to output for each?\n",
    "input_text_2 = [\"I love you\", \"I hate you\"]\n",
    "sentiment_analysis(input_text_2)"
   ]
  },
  {
   "cell_type": "code",
   "execution_count": 11,
   "id": "5342ca15-3710-4d82-9966-31451683ce20",
   "metadata": {},
   "outputs": [
    {
     "data": {
      "text/plain": [
       "[{'label': 'NEGATIVE', 'score': 0.998175859451294},\n",
       " {'label': 'POSITIVE', 'score': 0.9998840093612671},\n",
       " {'label': 'POSITIVE', 'score': 0.9158951044082642}]"
      ]
     },
     "execution_count": 11,
     "metadata": {},
     "output_type": "execute_result"
    }
   ],
   "source": [
    "# Make this one your own! Swap out my text strings for whatever your own answers to the question: How is Convening going for you?\n",
    "# Note that I tried running the following with more than 3 text strings, yet I only got 3 results. Assuming that 3 is the limit.\n",
    "# But we are limitless! Use the icon in the upper right-hand corner of this cell that has a rectangle with a + underneath it to\n",
    "# add a new cell below. Then swap the three text strings for all new ones. Keep going. Forever and ever if you want!\n",
    "# Note that the following text strings do not necessarily reflect my own opinions about Convening (especially the last one).\n",
    "input_text_3 = [\n",
    "    \"Convening is OK so far but my brain is tired\",\n",
    "    \"The food here is amazing!\",\n",
    "    \"I have both a good and bad opinion of Convening.\"\n",
    "]\n",
    "sentiment_analysis(input_text_3)"
   ]
  }
 ],
 "metadata": {
  "kernelspec": {
   "display_name": ".env",
   "language": "python",
   "name": ".env"
  },
  "language_info": {
   "codemirror_mode": {
    "name": "ipython",
    "version": 3
   },
   "file_extension": ".py",
   "mimetype": "text/x-python",
   "name": "python",
   "nbconvert_exporter": "python",
   "pygments_lexer": "ipython3",
   "version": "3.12.1"
  }
 },
 "nbformat": 4,
 "nbformat_minor": 5
}
