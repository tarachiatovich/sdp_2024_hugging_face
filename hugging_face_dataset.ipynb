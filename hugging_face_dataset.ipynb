{
 "cells": [
  {
   "cell_type": "markdown",
   "id": "6a61c4d3-1c49-42c8-a7b5-5d2c71c14207",
   "metadata": {},
   "source": [
    "The purpose of this notebook is to show how to load and use a Hugging Face dataset. No analyses from Hugging Face! Just\n",
    "the dataset."
   ]
  },
  {
   "cell_type": "code",
   "execution_count": null,
   "id": "91864088-20db-403f-8781-a65a41665f27",
   "metadata": {},
   "outputs": [],
   "source": [
    "# Install any packages you have not yet installed. Again, you can run the next code chunk as a way of checking whether you have \n",
    "# them installed. You will get an error saying the package is not found if it has not been installed. Remove the # from the beginning\n",
    "# of any line with a package you need to install.\n",
    "# %pip install datasets\n",
    "# %pip install pandas"
   ]
  },
  {
   "cell_type": "code",
   "execution_count": null,
   "id": "2529c723-6cee-401a-9e25-d64fbcc35f9a",
   "metadata": {},
   "outputs": [],
   "source": [
    "# Load the needed packages\n",
    "# Code for this notebook informed by: \n",
    "# https://github.com/msetzu/Univariate-vs-multivariate-decision-trees/blob/master/notebooks/Benchmark%20datasets.ipynb\n",
    "\n",
    "from datasets import load_dataset\n",
    "import pandas as pd"
   ]
  },
  {
   "cell_type": "code",
   "execution_count": null,
   "id": "9f9663be-c76c-41a2-b5c6-2be4153ef38a",
   "metadata": {},
   "outputs": [],
   "source": [
    "# The dataset we're using is here on Hugging Face: \n",
    "# Let's load the dataset into our Python session\n",
    "\n",
    "# This is the code copied from Hugging Face, which did load the data in the way I expected (not able to use pandas commands to understand or \n",
    "# maniuplate the data). I'm including the code here for reference and would love to hear from anyone who figures out how to work with data in\n",
    "# this state!\n",
    "# student_performance_data = load_dataset(\"mstz/student_performance\", \"math\")[\"train\"]\n",
    "\n",
    "# This will get you a pandas dataframe of this dataset, which I can definitely work with!\n",
    "student_performance_data =  load_dataset(\"mstz/student_performance\", \"math\")[\"train\"].to_pandas()"
   ]
  },
  {
   "cell_type": "code",
   "execution_count": null,
   "id": "85d99440-cc28-43ee-8347-9e4347129d91",
   "metadata": {},
   "outputs": [],
   "source": [
    "# Let's look at what's in there. You can also look at what's in there by viewing the data in Hugging Face and clicking on Viewer\n",
    "# https://huggingface.co/datasets/mstz/student_performance\n",
    "student_performance_data.info()"
   ]
  },
  {
   "cell_type": "code",
   "execution_count": null,
   "id": "7ad41e01-4cfc-49b1-bd45-e9ab9ce06ff9",
   "metadata": {},
   "outputs": [],
   "source": [
    "# Get descriptive statistics for the dataset\n",
    "student_performance_data.describe()"
   ]
  }
 ],
 "metadata": {
  "kernelspec": {
   "display_name": ".env",
   "language": "python",
   "name": ".env"
  },
  "language_info": {
   "name": ""
  }
 },
 "nbformat": 4,
 "nbformat_minor": 5
}
