{
 "cells": [
  {
   "cell_type": "markdown",
   "id": "6a61c4d3-1c49-42c8-a7b5-5d2c71c14207",
   "metadata": {},
   "source": [
    "The purpose of this notebook is to show how to load and use a Hugging Face dataset. No analyses from Hugging Face! Just\n",
    "the dataset."
   ]
  },
  {
   "cell_type": "code",
   "execution_count": 7,
   "id": "91864088-20db-403f-8781-a65a41665f27",
   "metadata": {},
   "outputs": [],
   "source": [
    "# Install any packages you have not yet installed. Again, you can run the next code chunk as a way of checking whether you have \n",
    "# them installed. You will get an error saying the package is not found if it has not been installed. Remove the # from the beginning\n",
    "# of any line with a package you need to install.\n",
    "# %pip install datasets\n",
    "# Note: You should not need to install pandas as my installation of datasets also resulted in pandas being installed.\n",
    "# Keeping this here just in case...\n",
    "# %pip install pandas"
   ]
  },
  {
   "cell_type": "code",
   "execution_count": 3,
   "id": "2529c723-6cee-401a-9e25-d64fbcc35f9a",
   "metadata": {},
   "outputs": [],
   "source": [
    "# Load the needed packages\n",
    "# Code for this notebook informed by: \n",
    "# https://github.com/msetzu/Univariate-vs-multivariate-decision-trees/blob/master/notebooks/Benchmark%20datasets.ipynb\n",
    "\n",
    "from datasets import load_dataset\n",
    "import pandas as pd"
   ]
  },
  {
   "cell_type": "code",
   "execution_count": 4,
   "id": "9f9663be-c76c-41a2-b5c6-2be4153ef38a",
   "metadata": {},
   "outputs": [],
   "source": [
    "# The dataset we're using is here on Hugging Face: \n",
    "# Let's load the dataset into our Python session\n",
    "\n",
    "# Note that the card in Hugging Face for this dataset gave different code to load it. I like working with Pandas dataframes\n",
    "# so am giving the code below so that people can work in Pandas.\n",
    "student_performance_data =  load_dataset(\"mstz/student_performance\", \"math\")[\"train\"].to_pandas()"
   ]
  },
  {
   "cell_type": "code",
   "execution_count": 5,
   "id": "85d99440-cc28-43ee-8347-9e4347129d91",
   "metadata": {},
   "outputs": [
    {
     "name": "stdout",
     "output_type": "stream",
     "text": [
      "<class 'pandas.core.frame.DataFrame'>\n",
      "RangeIndex: 1000 entries, 0 to 999\n",
      "Data columns (total 8 columns):\n",
      " #   Column                          Non-Null Count  Dtype \n",
      "---  ------                          --------------  ----- \n",
      " 0   is_male                         1000 non-null   bool  \n",
      " 1   ethnicity                       1000 non-null   object\n",
      " 2   parental_level_of_education     1000 non-null   int8  \n",
      " 3   has_standard_lunch              1000 non-null   bool  \n",
      " 4   has_completed_preparation_test  1000 non-null   bool  \n",
      " 5   reading_score                   1000 non-null   int64 \n",
      " 6   writing_score                   1000 non-null   int64 \n",
      " 7   has_passed_math_exam            1000 non-null   int64 \n",
      "dtypes: bool(3), int64(3), int8(1), object(1)\n",
      "memory usage: 35.3+ KB\n"
     ]
    }
   ],
   "source": [
    "# Let's look at what's in there. You can also look at what's in there by viewing the data in Hugging Face and clicking on Viewer\n",
    "# https://huggingface.co/datasets/mstz/student_performance\n",
    "student_performance_data.info()"
   ]
  },
  {
   "cell_type": "code",
   "execution_count": 6,
   "id": "7ad41e01-4cfc-49b1-bd45-e9ab9ce06ff9",
   "metadata": {},
   "outputs": [
    {
     "data": {
      "text/html": [
       "<div>\n",
       "<style scoped>\n",
       "    .dataframe tbody tr th:only-of-type {\n",
       "        vertical-align: middle;\n",
       "    }\n",
       "\n",
       "    .dataframe tbody tr th {\n",
       "        vertical-align: top;\n",
       "    }\n",
       "\n",
       "    .dataframe thead th {\n",
       "        text-align: right;\n",
       "    }\n",
       "</style>\n",
       "<table border=\"1\" class=\"dataframe\">\n",
       "  <thead>\n",
       "    <tr style=\"text-align: right;\">\n",
       "      <th></th>\n",
       "      <th>parental_level_of_education</th>\n",
       "      <th>reading_score</th>\n",
       "      <th>writing_score</th>\n",
       "      <th>has_passed_math_exam</th>\n",
       "    </tr>\n",
       "  </thead>\n",
       "  <tbody>\n",
       "    <tr>\n",
       "      <th>count</th>\n",
       "      <td>1000.000000</td>\n",
       "      <td>1000.000000</td>\n",
       "      <td>1000.000000</td>\n",
       "      <td>1000.000000</td>\n",
       "    </tr>\n",
       "    <tr>\n",
       "      <th>mean</th>\n",
       "      <td>2.298000</td>\n",
       "      <td>70.382000</td>\n",
       "      <td>69.140000</td>\n",
       "      <td>0.696000</td>\n",
       "    </tr>\n",
       "    <tr>\n",
       "      <th>std</th>\n",
       "      <td>1.754501</td>\n",
       "      <td>14.107413</td>\n",
       "      <td>15.025917</td>\n",
       "      <td>0.460213</td>\n",
       "    </tr>\n",
       "    <tr>\n",
       "      <th>min</th>\n",
       "      <td>0.000000</td>\n",
       "      <td>25.000000</td>\n",
       "      <td>15.000000</td>\n",
       "      <td>0.000000</td>\n",
       "    </tr>\n",
       "    <tr>\n",
       "      <th>25%</th>\n",
       "      <td>1.000000</td>\n",
       "      <td>61.000000</td>\n",
       "      <td>59.000000</td>\n",
       "      <td>0.000000</td>\n",
       "    </tr>\n",
       "    <tr>\n",
       "      <th>50%</th>\n",
       "      <td>2.000000</td>\n",
       "      <td>70.500000</td>\n",
       "      <td>70.000000</td>\n",
       "      <td>1.000000</td>\n",
       "    </tr>\n",
       "    <tr>\n",
       "      <th>75%</th>\n",
       "      <td>4.000000</td>\n",
       "      <td>80.000000</td>\n",
       "      <td>80.000000</td>\n",
       "      <td>1.000000</td>\n",
       "    </tr>\n",
       "    <tr>\n",
       "      <th>max</th>\n",
       "      <td>5.000000</td>\n",
       "      <td>100.000000</td>\n",
       "      <td>100.000000</td>\n",
       "      <td>1.000000</td>\n",
       "    </tr>\n",
       "  </tbody>\n",
       "</table>\n",
       "</div>"
      ],
      "text/plain": [
       "       parental_level_of_education  reading_score  writing_score  \\\n",
       "count                  1000.000000    1000.000000    1000.000000   \n",
       "mean                      2.298000      70.382000      69.140000   \n",
       "std                       1.754501      14.107413      15.025917   \n",
       "min                       0.000000      25.000000      15.000000   \n",
       "25%                       1.000000      61.000000      59.000000   \n",
       "50%                       2.000000      70.500000      70.000000   \n",
       "75%                       4.000000      80.000000      80.000000   \n",
       "max                       5.000000     100.000000     100.000000   \n",
       "\n",
       "       has_passed_math_exam  \n",
       "count           1000.000000  \n",
       "mean               0.696000  \n",
       "std                0.460213  \n",
       "min                0.000000  \n",
       "25%                0.000000  \n",
       "50%                1.000000  \n",
       "75%                1.000000  \n",
       "max                1.000000  "
      ]
     },
     "execution_count": 6,
     "metadata": {},
     "output_type": "execute_result"
    }
   ],
   "source": [
    "# Get descriptive statistics for the dataset\n",
    "student_performance_data.describe()"
   ]
  }
 ],
 "metadata": {
  "kernelspec": {
   "display_name": ".env",
   "language": "python",
   "name": ".env"
  },
  "language_info": {
   "codemirror_mode": {
    "name": "ipython",
    "version": 3
   },
   "file_extension": ".py",
   "mimetype": "text/x-python",
   "name": "python",
   "nbconvert_exporter": "python",
   "pygments_lexer": "ipython3",
   "version": "3.12.1"
  }
 },
 "nbformat": 4,
 "nbformat_minor": 5
}
